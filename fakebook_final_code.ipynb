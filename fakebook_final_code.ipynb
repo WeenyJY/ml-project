{
 "cells": [
  {
   "cell_type": "code",
   "execution_count": 1,
   "metadata": {
    "scrolled": true
   },
   "outputs": [
    {
     "data": {
      "text/html": [
       "<div>\n",
       "<style scoped>\n",
       "    .dataframe tbody tr th:only-of-type {\n",
       "        vertical-align: middle;\n",
       "    }\n",
       "\n",
       "    .dataframe tbody tr th {\n",
       "        vertical-align: top;\n",
       "    }\n",
       "\n",
       "    .dataframe thead th {\n",
       "        text-align: right;\n",
       "    }\n",
       "</style>\n",
       "<table border=\"1\" class=\"dataframe\">\n",
       "  <thead>\n",
       "    <tr style=\"text-align: right;\">\n",
       "      <th></th>\n",
       "      <th>date</th>\n",
       "      <th>title</th>\n",
       "      <th>text</th>\n",
       "      <th>type</th>\n",
       "    </tr>\n",
       "  </thead>\n",
       "  <tbody>\n",
       "    <tr>\n",
       "      <th>0</th>\n",
       "      <td>2016-03-11</td>\n",
       "      <td>Governor extends Flint water emergency as stat...</td>\n",
       "      <td>WASHINGTON (Reuters) - Michigan Governor Rick ...</td>\n",
       "      <td>real</td>\n",
       "    </tr>\n",
       "    <tr>\n",
       "      <th>1</th>\n",
       "      <td>2017-10-09</td>\n",
       "      <td>DEMOCRATS CONVENIENTLY FORGET 6,000 Prisoners ...</td>\n",
       "      <td>Democrats are calling for President Trump s sc...</td>\n",
       "      <td>fake</td>\n",
       "    </tr>\n",
       "    <tr>\n",
       "      <th>2</th>\n",
       "      <td>2018-02-01</td>\n",
       "      <td>Mexico recognizes Honduran president as winner...</td>\n",
       "      <td>MEXICO CITY (Reuters) - Mexico recognized Hond...</td>\n",
       "      <td>real</td>\n",
       "    </tr>\n",
       "    <tr>\n",
       "      <th>3</th>\n",
       "      <td>2016-11-20</td>\n",
       "      <td>BOOM! Wikileaks Shows Hillary Speech To Banker...</td>\n",
       "      <td>No wonder she didn t want anyone to see her sp...</td>\n",
       "      <td>fake</td>\n",
       "    </tr>\n",
       "    <tr>\n",
       "      <th>4</th>\n",
       "      <td>2017-07-06</td>\n",
       "      <td>Paul Ryan says confident tax reform will pass ...</td>\n",
       "      <td>WASHINGTON (Reuters) - Republicans will be abl...</td>\n",
       "      <td>real</td>\n",
       "    </tr>\n",
       "  </tbody>\n",
       "</table>\n",
       "</div>"
      ],
      "text/plain": [
       "         date                                              title  \\\n",
       "0  2016-03-11  Governor extends Flint water emergency as stat...   \n",
       "1  2017-10-09  DEMOCRATS CONVENIENTLY FORGET 6,000 Prisoners ...   \n",
       "2  2018-02-01  Mexico recognizes Honduran president as winner...   \n",
       "3  2016-11-20  BOOM! Wikileaks Shows Hillary Speech To Banker...   \n",
       "4  2017-07-06  Paul Ryan says confident tax reform will pass ...   \n",
       "\n",
       "                                                text  type  \n",
       "0  WASHINGTON (Reuters) - Michigan Governor Rick ...  real  \n",
       "1  Democrats are calling for President Trump s sc...  fake  \n",
       "2  MEXICO CITY (Reuters) - Mexico recognized Hond...  real  \n",
       "3  No wonder she didn t want anyone to see her sp...  fake  \n",
       "4  WASHINGTON (Reuters) - Republicans will be abl...  real  "
      ]
     },
     "execution_count": 1,
     "metadata": {},
     "output_type": "execute_result"
    }
   ],
   "source": [
    "#import Prof's dataset of fakebook reviews\n",
    "\n",
    "import pandas as pd\n",
    "df = pd.read_csv('C:/Users/Abbas/Downloads/Train (2).csv')\n",
    "df.head()"
   ]
  },
  {
   "cell_type": "code",
   "execution_count": 2,
   "metadata": {},
   "outputs": [
    {
     "data": {
      "text/plain": [
       "(38000, 4)"
      ]
     },
     "execution_count": 2,
     "metadata": {},
     "output_type": "execute_result"
    }
   ],
   "source": [
    "df.shape"
   ]
  },
  {
   "cell_type": "code",
   "execution_count": 3,
   "metadata": {},
   "outputs": [],
   "source": [
    "#Lets remove if there is some null values\n",
    "\n",
    "df = df[df['title'].notnull()]\n",
    "df = df[df['date'].notnull()]\n",
    "df = df[df['text'].notnull()]\n",
    "df = df[df['type'].notnull()]"
   ]
  },
  {
   "cell_type": "code",
   "execution_count": 4,
   "metadata": {},
   "outputs": [
    {
     "data": {
      "text/plain": [
       "(37466, 4)"
      ]
     },
     "execution_count": 4,
     "metadata": {},
     "output_type": "execute_result"
    }
   ],
   "source": [
    "df.shape"
   ]
  },
  {
   "cell_type": "code",
   "execution_count": 5,
   "metadata": {},
   "outputs": [
    {
     "data": {
      "text/plain": [
       "fake    19332\n",
       "real    18134\n",
       "Name: type, dtype: int64"
      ]
     },
     "execution_count": 5,
     "metadata": {},
     "output_type": "execute_result"
    }
   ],
   "source": [
    "df.type.value_counts()"
   ]
  },
  {
   "cell_type": "markdown",
   "metadata": {},
   "source": [
    "Text preprocessing - removal of stop words, lemmetization, lower case"
   ]
  },
  {
   "cell_type": "code",
   "execution_count": 6,
   "metadata": {},
   "outputs": [
    {
     "name": "stderr",
     "output_type": "stream",
     "text": [
      "[nltk_data] Downloading package stopwords to\n",
      "[nltk_data]     C:\\Users\\Abbas\\AppData\\Roaming\\nltk_data...\n",
      "[nltk_data]   Package stopwords is already up-to-date!\n"
     ]
    },
    {
     "data": {
      "text/plain": [
       "{'a',\n",
       " 'about',\n",
       " 'above',\n",
       " 'after',\n",
       " 'again',\n",
       " 'against',\n",
       " 'ain',\n",
       " 'all',\n",
       " 'am',\n",
       " 'an',\n",
       " 'and',\n",
       " 'any',\n",
       " 'are',\n",
       " 'aren',\n",
       " \"aren't\",\n",
       " 'as',\n",
       " 'at',\n",
       " 'be',\n",
       " 'because',\n",
       " 'been',\n",
       " 'before',\n",
       " 'being',\n",
       " 'below',\n",
       " 'between',\n",
       " 'both',\n",
       " 'but',\n",
       " 'by',\n",
       " 'can',\n",
       " 'couldn',\n",
       " \"couldn't\",\n",
       " 'd',\n",
       " 'did',\n",
       " 'didn',\n",
       " \"didn't\",\n",
       " 'do',\n",
       " 'does',\n",
       " 'doesn',\n",
       " \"doesn't\",\n",
       " 'doing',\n",
       " 'don',\n",
       " \"don't\",\n",
       " 'down',\n",
       " 'during',\n",
       " 'each',\n",
       " 'few',\n",
       " 'for',\n",
       " 'from',\n",
       " 'further',\n",
       " 'had',\n",
       " 'hadn',\n",
       " \"hadn't\",\n",
       " 'has',\n",
       " 'hasn',\n",
       " \"hasn't\",\n",
       " 'have',\n",
       " 'haven',\n",
       " \"haven't\",\n",
       " 'having',\n",
       " 'he',\n",
       " 'her',\n",
       " 'here',\n",
       " 'hers',\n",
       " 'herself',\n",
       " 'him',\n",
       " 'himself',\n",
       " 'his',\n",
       " 'how',\n",
       " 'i',\n",
       " 'if',\n",
       " 'in',\n",
       " 'into',\n",
       " 'is',\n",
       " 'isn',\n",
       " \"isn't\",\n",
       " 'it',\n",
       " \"it's\",\n",
       " 'its',\n",
       " 'itself',\n",
       " 'just',\n",
       " 'll',\n",
       " 'm',\n",
       " 'ma',\n",
       " 'me',\n",
       " 'mightn',\n",
       " \"mightn't\",\n",
       " 'more',\n",
       " 'most',\n",
       " 'mustn',\n",
       " \"mustn't\",\n",
       " 'my',\n",
       " 'myself',\n",
       " 'needn',\n",
       " \"needn't\",\n",
       " 'no',\n",
       " 'nor',\n",
       " 'not',\n",
       " 'now',\n",
       " 'o',\n",
       " 'of',\n",
       " 'off',\n",
       " 'on',\n",
       " 'once',\n",
       " 'only',\n",
       " 'or',\n",
       " 'other',\n",
       " 'our',\n",
       " 'ours',\n",
       " 'ourselves',\n",
       " 'out',\n",
       " 'over',\n",
       " 'own',\n",
       " 're',\n",
       " 's',\n",
       " 'same',\n",
       " 'shan',\n",
       " \"shan't\",\n",
       " 'she',\n",
       " \"she's\",\n",
       " 'should',\n",
       " \"should've\",\n",
       " 'shouldn',\n",
       " \"shouldn't\",\n",
       " 'so',\n",
       " 'some',\n",
       " 'such',\n",
       " 't',\n",
       " 'than',\n",
       " 'that',\n",
       " \"that'll\",\n",
       " 'the',\n",
       " 'their',\n",
       " 'theirs',\n",
       " 'them',\n",
       " 'themselves',\n",
       " 'then',\n",
       " 'there',\n",
       " 'these',\n",
       " 'they',\n",
       " 'this',\n",
       " 'those',\n",
       " 'through',\n",
       " 'to',\n",
       " 'too',\n",
       " 'under',\n",
       " 'until',\n",
       " 'up',\n",
       " 've',\n",
       " 'very',\n",
       " 'was',\n",
       " 'wasn',\n",
       " \"wasn't\",\n",
       " 'we',\n",
       " 'were',\n",
       " 'weren',\n",
       " \"weren't\",\n",
       " 'what',\n",
       " 'when',\n",
       " 'where',\n",
       " 'which',\n",
       " 'while',\n",
       " 'who',\n",
       " 'whom',\n",
       " 'why',\n",
       " 'will',\n",
       " 'with',\n",
       " 'won',\n",
       " \"won't\",\n",
       " 'wouldn',\n",
       " \"wouldn't\",\n",
       " 'y',\n",
       " 'you',\n",
       " \"you'd\",\n",
       " \"you'll\",\n",
       " \"you're\",\n",
       " \"you've\",\n",
       " 'your',\n",
       " 'yours',\n",
       " 'yourself',\n",
       " 'yourselves'}"
      ]
     },
     "execution_count": 6,
     "metadata": {},
     "output_type": "execute_result"
    }
   ],
   "source": [
    "#import dictionary of stop words\n",
    "\n",
    "import nltk\n",
    "nltk.download('stopwords')\n",
    "import nltk\n",
    "from nltk.corpus import stopwords\n",
    "set(stopwords.words('english'))"
   ]
  },
  {
   "cell_type": "code",
   "execution_count": 7,
   "metadata": {},
   "outputs": [
    {
     "data": {
      "text/html": [
       "<div>\n",
       "<style scoped>\n",
       "    .dataframe tbody tr th:only-of-type {\n",
       "        vertical-align: middle;\n",
       "    }\n",
       "\n",
       "    .dataframe tbody tr th {\n",
       "        vertical-align: top;\n",
       "    }\n",
       "\n",
       "    .dataframe thead th {\n",
       "        text-align: right;\n",
       "    }\n",
       "</style>\n",
       "<table border=\"1\" class=\"dataframe\">\n",
       "  <thead>\n",
       "    <tr style=\"text-align: right;\">\n",
       "      <th></th>\n",
       "      <th>date</th>\n",
       "      <th>title</th>\n",
       "      <th>text</th>\n",
       "      <th>type</th>\n",
       "    </tr>\n",
       "  </thead>\n",
       "  <tbody>\n",
       "    <tr>\n",
       "      <th>0</th>\n",
       "      <td>2016-03-11</td>\n",
       "      <td>Governor extends Flint water emergency as stat...</td>\n",
       "      <td>WASHINGTON (Reuters) - Michigan Governor Rick ...</td>\n",
       "      <td>real</td>\n",
       "    </tr>\n",
       "    <tr>\n",
       "      <th>1</th>\n",
       "      <td>2017-10-09</td>\n",
       "      <td>DEMOCRATS CONVENIENTLY FORGET 6,000 Prisoners ...</td>\n",
       "      <td>Democrats calling President Trump scalp pardon...</td>\n",
       "      <td>fake</td>\n",
       "    </tr>\n",
       "    <tr>\n",
       "      <th>2</th>\n",
       "      <td>2018-02-01</td>\n",
       "      <td>Mexico recognizes Honduran president as winner...</td>\n",
       "      <td>MEXICO CITY (Reuters) - Mexico recognized Hond...</td>\n",
       "      <td>real</td>\n",
       "    </tr>\n",
       "    <tr>\n",
       "      <th>3</th>\n",
       "      <td>2016-11-20</td>\n",
       "      <td>BOOM! Wikileaks Shows Hillary Speech To Banker...</td>\n",
       "      <td>No wonder want anyone see speeches. She singin...</td>\n",
       "      <td>fake</td>\n",
       "    </tr>\n",
       "    <tr>\n",
       "      <th>4</th>\n",
       "      <td>2017-07-06</td>\n",
       "      <td>Paul Ryan says confident tax reform will pass ...</td>\n",
       "      <td>WASHINGTON (Reuters) - Republicans able push t...</td>\n",
       "      <td>real</td>\n",
       "    </tr>\n",
       "  </tbody>\n",
       "</table>\n",
       "</div>"
      ],
      "text/plain": [
       "         date                                              title  \\\n",
       "0  2016-03-11  Governor extends Flint water emergency as stat...   \n",
       "1  2017-10-09  DEMOCRATS CONVENIENTLY FORGET 6,000 Prisoners ...   \n",
       "2  2018-02-01  Mexico recognizes Honduran president as winner...   \n",
       "3  2016-11-20  BOOM! Wikileaks Shows Hillary Speech To Banker...   \n",
       "4  2017-07-06  Paul Ryan says confident tax reform will pass ...   \n",
       "\n",
       "                                                text  type  \n",
       "0  WASHINGTON (Reuters) - Michigan Governor Rick ...  real  \n",
       "1  Democrats calling President Trump scalp pardon...  fake  \n",
       "2  MEXICO CITY (Reuters) - Mexico recognized Hond...  real  \n",
       "3  No wonder want anyone see speeches. She singin...  fake  \n",
       "4  WASHINGTON (Reuters) - Republicans able push t...  real  "
      ]
     },
     "execution_count": 7,
     "metadata": {},
     "output_type": "execute_result"
    }
   ],
   "source": [
    "#removing stop words\n",
    "\n",
    "import pandas as pd\n",
    "from nltk.corpus import stopwords\n",
    "\n",
    "stop = stopwords.words('english')\n",
    "\n",
    "df[\"text\"] = df[\"text\"].apply(lambda x: ' '.join([word for word in x.split() if word not in (stop)]))\n",
    "\n",
    "df.head()"
   ]
  },
  {
   "cell_type": "code",
   "execution_count": 8,
   "metadata": {},
   "outputs": [],
   "source": [
    "#change to lower case\n",
    "\n",
    "df['text']= df['text'].apply(lambda x: \" \".join(word.lower() for word in x.split()))"
   ]
  },
  {
   "cell_type": "code",
   "execution_count": 9,
   "metadata": {},
   "outputs": [
    {
     "data": {
      "text/html": [
       "<div>\n",
       "<style scoped>\n",
       "    .dataframe tbody tr th:only-of-type {\n",
       "        vertical-align: middle;\n",
       "    }\n",
       "\n",
       "    .dataframe tbody tr th {\n",
       "        vertical-align: top;\n",
       "    }\n",
       "\n",
       "    .dataframe thead th {\n",
       "        text-align: right;\n",
       "    }\n",
       "</style>\n",
       "<table border=\"1\" class=\"dataframe\">\n",
       "  <thead>\n",
       "    <tr style=\"text-align: right;\">\n",
       "      <th></th>\n",
       "      <th>date</th>\n",
       "      <th>title</th>\n",
       "      <th>text</th>\n",
       "      <th>type</th>\n",
       "    </tr>\n",
       "  </thead>\n",
       "  <tbody>\n",
       "    <tr>\n",
       "      <th>0</th>\n",
       "      <td>2016-03-11</td>\n",
       "      <td>Governor extends Flint water emergency as stat...</td>\n",
       "      <td>washington (reuters) - michigan governor rick ...</td>\n",
       "      <td>real</td>\n",
       "    </tr>\n",
       "    <tr>\n",
       "      <th>1</th>\n",
       "      <td>2017-10-09</td>\n",
       "      <td>DEMOCRATS CONVENIENTLY FORGET 6,000 Prisoners ...</td>\n",
       "      <td>democrats calling president trump scalp pardon...</td>\n",
       "      <td>fake</td>\n",
       "    </tr>\n",
       "    <tr>\n",
       "      <th>2</th>\n",
       "      <td>2018-02-01</td>\n",
       "      <td>Mexico recognizes Honduran president as winner...</td>\n",
       "      <td>mexico city (reuters) - mexico recognized hond...</td>\n",
       "      <td>real</td>\n",
       "    </tr>\n",
       "    <tr>\n",
       "      <th>3</th>\n",
       "      <td>2016-11-20</td>\n",
       "      <td>BOOM! Wikileaks Shows Hillary Speech To Banker...</td>\n",
       "      <td>no wonder want anyone see speeches. she singin...</td>\n",
       "      <td>fake</td>\n",
       "    </tr>\n",
       "    <tr>\n",
       "      <th>4</th>\n",
       "      <td>2017-07-06</td>\n",
       "      <td>Paul Ryan says confident tax reform will pass ...</td>\n",
       "      <td>washington (reuters) - republicans able push t...</td>\n",
       "      <td>real</td>\n",
       "    </tr>\n",
       "  </tbody>\n",
       "</table>\n",
       "</div>"
      ],
      "text/plain": [
       "         date                                              title  \\\n",
       "0  2016-03-11  Governor extends Flint water emergency as stat...   \n",
       "1  2017-10-09  DEMOCRATS CONVENIENTLY FORGET 6,000 Prisoners ...   \n",
       "2  2018-02-01  Mexico recognizes Honduran president as winner...   \n",
       "3  2016-11-20  BOOM! Wikileaks Shows Hillary Speech To Banker...   \n",
       "4  2017-07-06  Paul Ryan says confident tax reform will pass ...   \n",
       "\n",
       "                                                text  type  \n",
       "0  washington (reuters) - michigan governor rick ...  real  \n",
       "1  democrats calling president trump scalp pardon...  fake  \n",
       "2  mexico city (reuters) - mexico recognized hond...  real  \n",
       "3  no wonder want anyone see speeches. she singin...  fake  \n",
       "4  washington (reuters) - republicans able push t...  real  "
      ]
     },
     "execution_count": 9,
     "metadata": {},
     "output_type": "execute_result"
    }
   ],
   "source": [
    "df.head()"
   ]
  },
  {
   "cell_type": "code",
   "execution_count": 10,
   "metadata": {},
   "outputs": [],
   "source": [
    " # Removes punctuation\n",
    "df['text']= df['text'].str.replace('[^\\w\\s]','')\n",
    " #removes HTML Tags\n",
    "df['text']= df['text'].str.replace('<.*?>','')\n",
    " #removes numbers\n",
    "df['text']= df['text'].str.replace('\\d+','')\n"
   ]
  },
  {
   "cell_type": "code",
   "execution_count": 11,
   "metadata": {},
   "outputs": [
    {
     "data": {
      "text/html": [
       "<div>\n",
       "<style scoped>\n",
       "    .dataframe tbody tr th:only-of-type {\n",
       "        vertical-align: middle;\n",
       "    }\n",
       "\n",
       "    .dataframe tbody tr th {\n",
       "        vertical-align: top;\n",
       "    }\n",
       "\n",
       "    .dataframe thead th {\n",
       "        text-align: right;\n",
       "    }\n",
       "</style>\n",
       "<table border=\"1\" class=\"dataframe\">\n",
       "  <thead>\n",
       "    <tr style=\"text-align: right;\">\n",
       "      <th></th>\n",
       "      <th>date</th>\n",
       "      <th>title</th>\n",
       "      <th>text</th>\n",
       "      <th>type</th>\n",
       "    </tr>\n",
       "  </thead>\n",
       "  <tbody>\n",
       "    <tr>\n",
       "      <th>0</th>\n",
       "      <td>2016-03-11</td>\n",
       "      <td>Governor extends Flint water emergency as stat...</td>\n",
       "      <td>washington reuters michigan governor rick snyd...</td>\n",
       "      <td>real</td>\n",
       "    </tr>\n",
       "    <tr>\n",
       "      <th>1</th>\n",
       "      <td>2017-10-09</td>\n",
       "      <td>DEMOCRATS CONVENIENTLY FORGET 6,000 Prisoners ...</td>\n",
       "      <td>democrats calling president trump scalp pardon...</td>\n",
       "      <td>fake</td>\n",
       "    </tr>\n",
       "    <tr>\n",
       "      <th>2</th>\n",
       "      <td>2018-02-01</td>\n",
       "      <td>Mexico recognizes Honduran president as winner...</td>\n",
       "      <td>mexico city reuters mexico recognized honduran...</td>\n",
       "      <td>real</td>\n",
       "    </tr>\n",
       "    <tr>\n",
       "      <th>3</th>\n",
       "      <td>2016-11-20</td>\n",
       "      <td>BOOM! Wikileaks Shows Hillary Speech To Banker...</td>\n",
       "      <td>no wonder want anyone see speeches she singing...</td>\n",
       "      <td>fake</td>\n",
       "    </tr>\n",
       "    <tr>\n",
       "      <th>4</th>\n",
       "      <td>2017-07-06</td>\n",
       "      <td>Paul Ryan says confident tax reform will pass ...</td>\n",
       "      <td>washington reuters republicans able push tax r...</td>\n",
       "      <td>real</td>\n",
       "    </tr>\n",
       "  </tbody>\n",
       "</table>\n",
       "</div>"
      ],
      "text/plain": [
       "         date                                              title  \\\n",
       "0  2016-03-11  Governor extends Flint water emergency as stat...   \n",
       "1  2017-10-09  DEMOCRATS CONVENIENTLY FORGET 6,000 Prisoners ...   \n",
       "2  2018-02-01  Mexico recognizes Honduran president as winner...   \n",
       "3  2016-11-20  BOOM! Wikileaks Shows Hillary Speech To Banker...   \n",
       "4  2017-07-06  Paul Ryan says confident tax reform will pass ...   \n",
       "\n",
       "                                                text  type  \n",
       "0  washington reuters michigan governor rick snyd...  real  \n",
       "1  democrats calling president trump scalp pardon...  fake  \n",
       "2  mexico city reuters mexico recognized honduran...  real  \n",
       "3  no wonder want anyone see speeches she singing...  fake  \n",
       "4  washington reuters republicans able push tax r...  real  "
      ]
     },
     "execution_count": 11,
     "metadata": {},
     "output_type": "execute_result"
    }
   ],
   "source": [
    "#removal of other unncessary words\n",
    "\n",
    "other_stop_words = ['get', 'would', 'got', 'made', 'doesnt', 'got']\n",
    "df['text'] = df['text'].apply(lambda x: \" \".join(word for word in x.split() if word not in other_stop_words))\n",
    "df.head()"
   ]
  },
  {
   "cell_type": "code",
   "execution_count": 12,
   "metadata": {},
   "outputs": [],
   "source": [
    "from textblob import TextBlob\n",
    "from textblob import Word"
   ]
  },
  {
   "cell_type": "code",
   "execution_count": 13,
   "metadata": {},
   "outputs": [
    {
     "data": {
      "text/html": [
       "<div>\n",
       "<style scoped>\n",
       "    .dataframe tbody tr th:only-of-type {\n",
       "        vertical-align: middle;\n",
       "    }\n",
       "\n",
       "    .dataframe tbody tr th {\n",
       "        vertical-align: top;\n",
       "    }\n",
       "\n",
       "    .dataframe thead th {\n",
       "        text-align: right;\n",
       "    }\n",
       "</style>\n",
       "<table border=\"1\" class=\"dataframe\">\n",
       "  <thead>\n",
       "    <tr style=\"text-align: right;\">\n",
       "      <th></th>\n",
       "      <th>date</th>\n",
       "      <th>title</th>\n",
       "      <th>text</th>\n",
       "      <th>type</th>\n",
       "    </tr>\n",
       "  </thead>\n",
       "  <tbody>\n",
       "    <tr>\n",
       "      <th>0</th>\n",
       "      <td>2016-03-11</td>\n",
       "      <td>Governor extends Flint water emergency as stat...</td>\n",
       "      <td>washington reuters michigan governor rick snyd...</td>\n",
       "      <td>real</td>\n",
       "    </tr>\n",
       "    <tr>\n",
       "      <th>1</th>\n",
       "      <td>2017-10-09</td>\n",
       "      <td>DEMOCRATS CONVENIENTLY FORGET 6,000 Prisoners ...</td>\n",
       "      <td>democrat calling president trump scalp pardone...</td>\n",
       "      <td>fake</td>\n",
       "    </tr>\n",
       "    <tr>\n",
       "      <th>2</th>\n",
       "      <td>2018-02-01</td>\n",
       "      <td>Mexico recognizes Honduran president as winner...</td>\n",
       "      <td>mexico city reuters mexico recognized honduran...</td>\n",
       "      <td>real</td>\n",
       "    </tr>\n",
       "    <tr>\n",
       "      <th>3</th>\n",
       "      <td>2016-11-20</td>\n",
       "      <td>BOOM! Wikileaks Shows Hillary Speech To Banker...</td>\n",
       "      <td>no wonder want anyone see speech she singing p...</td>\n",
       "      <td>fake</td>\n",
       "    </tr>\n",
       "    <tr>\n",
       "      <th>4</th>\n",
       "      <td>2017-07-06</td>\n",
       "      <td>Paul Ryan says confident tax reform will pass ...</td>\n",
       "      <td>washington reuters republican able push tax re...</td>\n",
       "      <td>real</td>\n",
       "    </tr>\n",
       "  </tbody>\n",
       "</table>\n",
       "</div>"
      ],
      "text/plain": [
       "         date                                              title  \\\n",
       "0  2016-03-11  Governor extends Flint water emergency as stat...   \n",
       "1  2017-10-09  DEMOCRATS CONVENIENTLY FORGET 6,000 Prisoners ...   \n",
       "2  2018-02-01  Mexico recognizes Honduran president as winner...   \n",
       "3  2016-11-20  BOOM! Wikileaks Shows Hillary Speech To Banker...   \n",
       "4  2017-07-06  Paul Ryan says confident tax reform will pass ...   \n",
       "\n",
       "                                                text  type  \n",
       "0  washington reuters michigan governor rick snyd...  real  \n",
       "1  democrat calling president trump scalp pardone...  fake  \n",
       "2  mexico city reuters mexico recognized honduran...  real  \n",
       "3  no wonder want anyone see speech she singing p...  fake  \n",
       "4  washington reuters republican able push tax re...  real  "
      ]
     },
     "execution_count": 13,
     "metadata": {},
     "output_type": "execute_result"
    }
   ],
   "source": [
    "# Perform Lemmatization\n",
    "df['text'] = df['text'].apply(lambda x: \" \".join(Word(word).lemmatize() for word in x.split()))\n",
    "df.head()"
   ]
  },
  {
   "cell_type": "code",
   "execution_count": 22,
   "metadata": {},
   "outputs": [],
   "source": [
    "import nltk"
   ]
  },
  {
   "cell_type": "markdown",
   "metadata": {},
   "source": [
    "Method 1- to encode text to numbers\n",
    "Feature Generation using Bag of Words\n",
    "\n",
    "In the Text Classification Problem, we have a set of texts and their respective labels. But we directly can't use text for our model. You need to convert these text into some numbers or vectors of numbers.\n",
    "\n",
    "Bag-of-words model(BoW ) is the simplest way of extracting features from the text. BoW converts text into the matrix of occurrence of words within a document. This model concerns about whether given words occurred or not in the document."
   ]
  },
  {
   "cell_type": "code",
   "execution_count": 14,
   "metadata": {},
   "outputs": [],
   "source": [
    "#generate document term matrix by using scikit-learn's CountVectorizer.\n",
    "\n",
    "from sklearn.feature_extraction.text import CountVectorizer\n",
    "from nltk.tokenize import RegexpTokenizer\n",
    "token = RegexpTokenizer(r'[a-zA-Z0-9]+')\n",
    "\n",
    "#tokenizer to remove unwanted elements from out data like symbols and numbers\n",
    "\n",
    "cv = CountVectorizer(lowercase=False,stop_words='english',ngram_range = (1,1),tokenizer = token.tokenize)\n",
    "text_counts= cv.fit_transform(df['text'])"
   ]
  },
  {
   "cell_type": "code",
   "execution_count": 15,
   "metadata": {},
   "outputs": [],
   "source": [
    "X=text_counts\n",
    "Y=df.type"
   ]
  },
  {
   "cell_type": "code",
   "execution_count": 16,
   "metadata": {},
   "outputs": [],
   "source": [
    "from sklearn.model_selection import train_test_split\n",
    "X_train, X_test, y_train, y_test = train_test_split(\n",
    "    X,Y, test_size=0.3, random_state=1)"
   ]
  },
  {
   "cell_type": "code",
   "execution_count": 17,
   "metadata": {},
   "outputs": [
    {
     "name": "stdout",
     "output_type": "stream",
     "text": [
      "MultinomialNB Accuracy: 0.9508896797153025\n"
     ]
    }
   ],
   "source": [
    "# MultiNominalNB Model\n",
    "from sklearn.naive_bayes import MultinomialNB\n",
    "#Import scikit-learn metrics module for accuracy calculation\n",
    "from sklearn import metrics\n",
    "# Model Generation Using Multinomial Naive Bayes\n",
    "clf = MultinomialNB().fit(X_train, y_train)\n",
    "predicted= clf.predict(X_test)\n",
    "print(\"MultinomialNB Accuracy:\",metrics.accuracy_score(y_test, predicted))"
   ]
  },
  {
   "cell_type": "markdown",
   "metadata": {},
   "source": [
    "Below we will fit our test file(preprocessed using above code) on our trained model and see the results."
   ]
  },
  {
   "cell_type": "code",
   "execution_count": 18,
   "metadata": {
    "scrolled": false
   },
   "outputs": [
    {
     "data": {
      "text/plain": [
       "(3000, 4)"
      ]
     },
     "execution_count": 18,
     "metadata": {},
     "output_type": "execute_result"
    }
   ],
   "source": [
    "df_test= pd.read_csv('C:/Users/Abbas/Downloads/Test_afternull.csv')\n",
    "df_test.shape"
   ]
  },
  {
   "cell_type": "code",
   "execution_count": 19,
   "metadata": {},
   "outputs": [
    {
     "data": {
      "text/plain": [
       "Unnamed: 0    0\n",
       "date          0\n",
       "title         0\n",
       "text          0\n",
       "dtype: int64"
      ]
     },
     "execution_count": 19,
     "metadata": {},
     "output_type": "execute_result"
    }
   ],
   "source": [
    "df_test.isnull().sum(axis = 0)"
   ]
  },
  {
   "cell_type": "code",
   "execution_count": 20,
   "metadata": {},
   "outputs": [],
   "source": [
    "#generate document term matrix by using scikit-learn's CountVectorizer.\n",
    "\n",
    "from sklearn.feature_extraction.text import CountVectorizer\n",
    "from nltk.tokenize import RegexpTokenizer\n",
    "token = RegexpTokenizer(r'[a-zA-Z0-9]+')\n",
    "\n",
    "#tokenizer to remove unwanted elements from out data like symbols and numbers\n",
    "#vect = CountVectorizer()\n",
    "#cv = CountVectorizer(lowercase=False,stop_words='english',ngram_range = (1,1),tokenizer = token.tokenize)\n",
    "#cv = CountVectorizer()\n",
    "test_text_counts= cv.transform(df_test['text'])\n",
    "#title_counts= cv.fit_transform(df['title'])"
   ]
  },
  {
   "cell_type": "code",
   "execution_count": 21,
   "metadata": {},
   "outputs": [],
   "source": [
    "X=text_counts\n",
    "Y=df.type"
   ]
  },
  {
   "cell_type": "code",
   "execution_count": 22,
   "metadata": {},
   "outputs": [],
   "source": [
    "from sklearn.model_selection import train_test_split\n",
    "X_train, X_test, y_train, y_test = train_test_split(\n",
    "    X,Y, test_size=0.3, random_state=1)"
   ]
  },
  {
   "cell_type": "code",
   "execution_count": 23,
   "metadata": {},
   "outputs": [],
   "source": [
    "# MultiNominalNB Model\n",
    "from sklearn.naive_bayes import MultinomialNB\n",
    "#Import scikit-learn metrics module for accuracy calculation\n",
    "from sklearn import metrics\n",
    "# Model Generation Using Multinomial Naive Bayes\n",
    "predicted= clf.predict(test_text_counts)"
   ]
  },
  {
   "cell_type": "code",
   "execution_count": 24,
   "metadata": {},
   "outputs": [
    {
     "data": {
      "text/plain": [
       "array(['real', 'fake', 'fake', ..., 'fake', 'fake', 'real'], dtype='<U4')"
      ]
     },
     "execution_count": 24,
     "metadata": {},
     "output_type": "execute_result"
    }
   ],
   "source": [
    "predicted"
   ]
  },
  {
   "cell_type": "code",
   "execution_count": 41,
   "metadata": {},
   "outputs": [],
   "source": []
  },
  {
   "cell_type": "code",
   "execution_count": 25,
   "metadata": {},
   "outputs": [
    {
     "data": {
      "text/plain": [
       "array(['fake', 'fake', 'fake', ..., 'fake', 'fake', 'real'], dtype=object)"
      ]
     },
     "execution_count": 25,
     "metadata": {},
     "output_type": "execute_result"
    }
   ],
   "source": [
    "# Random Forest Model\n",
    "\n",
    "from sklearn.ensemble import RandomForestClassifier\n",
    "model_rf = RandomForestClassifier(n_estimators=100, \n",
    "                               bootstrap = True,\n",
    "                               max_features = 'sqrt')\n",
    "\n",
    "clf=model_rf.fit(X_train, y_train)\n",
    "\n",
    "predicted_rf= clf.predict(test_text_counts)\n",
    "predicted_rf"
   ]
  },
  {
   "cell_type": "code",
   "execution_count": 26,
   "metadata": {},
   "outputs": [],
   "source": [
    "# Support Vector Classifier Model\n",
    "from sklearn.svm import SVC  \n",
    "model_svc = SVC(kernel='linear') \n",
    "  \n",
    "# Fit on training data\n",
    "clf=model_svc.fit(X_train, y_train)"
   ]
  },
  {
   "cell_type": "code",
   "execution_count": 27,
   "metadata": {},
   "outputs": [
    {
     "data": {
      "text/plain": [
       "array(['fake', 'fake', 'fake', ..., 'fake', 'fake', 'fake'], dtype=object)"
      ]
     },
     "execution_count": 27,
     "metadata": {},
     "output_type": "execute_result"
    }
   ],
   "source": [
    "predicted_svc= clf.predict(test_text_counts)\n",
    "predicted_svc"
   ]
  },
  {
   "cell_type": "code",
   "execution_count": null,
   "metadata": {},
   "outputs": [],
   "source": []
  }
 ],
 "metadata": {
  "kernelspec": {
   "display_name": "Python 3",
   "language": "python",
   "name": "python3"
  },
  "language_info": {
   "codemirror_mode": {
    "name": "ipython",
    "version": 3
   },
   "file_extension": ".py",
   "mimetype": "text/x-python",
   "name": "python",
   "nbconvert_exporter": "python",
   "pygments_lexer": "ipython3",
   "version": "3.7.3"
  }
 },
 "nbformat": 4,
 "nbformat_minor": 2
}
