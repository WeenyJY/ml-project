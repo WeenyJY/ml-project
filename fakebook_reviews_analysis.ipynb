{
 "cells": [
  {
   "cell_type": "code",
   "execution_count": 135,
   "metadata": {},
   "outputs": [
    {
     "data": {
      "text/html": [
       "<div>\n",
       "<style scoped>\n",
       "    .dataframe tbody tr th:only-of-type {\n",
       "        vertical-align: middle;\n",
       "    }\n",
       "\n",
       "    .dataframe tbody tr th {\n",
       "        vertical-align: top;\n",
       "    }\n",
       "\n",
       "    .dataframe thead th {\n",
       "        text-align: right;\n",
       "    }\n",
       "</style>\n",
       "<table border=\"1\" class=\"dataframe\">\n",
       "  <thead>\n",
       "    <tr style=\"text-align: right;\">\n",
       "      <th></th>\n",
       "      <th>date</th>\n",
       "      <th>title</th>\n",
       "      <th>text</th>\n",
       "      <th>type</th>\n",
       "    </tr>\n",
       "  </thead>\n",
       "  <tbody>\n",
       "    <tr>\n",
       "      <th>0</th>\n",
       "      <td>2016-03-11 00:00:00</td>\n",
       "      <td>Governor extends Flint water emergency as stat...</td>\n",
       "      <td>WASHINGTON (Reuters) - Michigan Governor Rick ...</td>\n",
       "      <td>real</td>\n",
       "    </tr>\n",
       "    <tr>\n",
       "      <th>1</th>\n",
       "      <td>2017-10-09 00:00:00</td>\n",
       "      <td>DEMOCRATS CONVENIENTLY FORGET 6,000 Prisoners ...</td>\n",
       "      <td>Democrats are calling for President Trump s sc...</td>\n",
       "      <td>fake</td>\n",
       "    </tr>\n",
       "    <tr>\n",
       "      <th>2</th>\n",
       "      <td>2018-02-01 00:00:00</td>\n",
       "      <td>Mexico recognizes Honduran president as winner...</td>\n",
       "      <td>MEXICO CITY (Reuters) - Mexico recognized Hond...</td>\n",
       "      <td>real</td>\n",
       "    </tr>\n",
       "    <tr>\n",
       "      <th>3</th>\n",
       "      <td>2016-11-20 00:00:00</td>\n",
       "      <td>BOOM! Wikileaks Shows Hillary Speech To Banker...</td>\n",
       "      <td>No wonder she didn t want anyone to see her sp...</td>\n",
       "      <td>fake</td>\n",
       "    </tr>\n",
       "    <tr>\n",
       "      <th>4</th>\n",
       "      <td>2017-07-06 00:00:00</td>\n",
       "      <td>Paul Ryan says confident tax reform will pass ...</td>\n",
       "      <td>WASHINGTON (Reuters) - Republicans will be abl...</td>\n",
       "      <td>real</td>\n",
       "    </tr>\n",
       "  </tbody>\n",
       "</table>\n",
       "</div>"
      ],
      "text/plain": [
       "                  date                                              title  \\\n",
       "0  2016-03-11 00:00:00  Governor extends Flint water emergency as stat...   \n",
       "1  2017-10-09 00:00:00  DEMOCRATS CONVENIENTLY FORGET 6,000 Prisoners ...   \n",
       "2  2018-02-01 00:00:00  Mexico recognizes Honduran president as winner...   \n",
       "3  2016-11-20 00:00:00  BOOM! Wikileaks Shows Hillary Speech To Banker...   \n",
       "4  2017-07-06 00:00:00  Paul Ryan says confident tax reform will pass ...   \n",
       "\n",
       "                                                text  type  \n",
       "0  WASHINGTON (Reuters) - Michigan Governor Rick ...  real  \n",
       "1  Democrats are calling for President Trump s sc...  fake  \n",
       "2  MEXICO CITY (Reuters) - Mexico recognized Hond...  real  \n",
       "3  No wonder she didn t want anyone to see her sp...  fake  \n",
       "4  WASHINGTON (Reuters) - Republicans will be abl...  real  "
      ]
     },
     "execution_count": 135,
     "metadata": {},
     "output_type": "execute_result"
    }
   ],
   "source": [
    "#import Prof's dataset of fakebook reviews\n",
    "\n",
    "import pandas as pd\n",
    "df = pd.read_excel('C:/Users/Abbas/Desktop/ML Proj/fakebook_rev.xlsx')\n",
    "df.head()"
   ]
  },
  {
   "cell_type": "code",
   "execution_count": 51,
   "metadata": {},
   "outputs": [
    {
     "data": {
      "text/plain": [
       "(38016, 4)"
      ]
     },
     "execution_count": 51,
     "metadata": {},
     "output_type": "execute_result"
    }
   ],
   "source": [
    "df.shape"
   ]
  },
  {
   "cell_type": "code",
   "execution_count": 136,
   "metadata": {},
   "outputs": [],
   "source": [
    "#Lets remove if there is some null values\n",
    "\n",
    "df = df[df['title'].notnull()]\n",
    "df = df[df['date'].notnull()]\n",
    "df = df[df['text'].notnull()]\n",
    "df = df[df['type'].notnull()]"
   ]
  },
  {
   "cell_type": "code",
   "execution_count": 53,
   "metadata": {},
   "outputs": [
    {
     "data": {
      "text/plain": [
       "(37466, 4)"
      ]
     },
     "execution_count": 53,
     "metadata": {},
     "output_type": "execute_result"
    }
   ],
   "source": [
    "df.shape"
   ]
  },
  {
   "cell_type": "markdown",
   "metadata": {},
   "source": [
    "Text preprocessing - removal of stop words, lemmetization, lower case"
   ]
  },
  {
   "cell_type": "code",
   "execution_count": 137,
   "metadata": {},
   "outputs": [
    {
     "name": "stderr",
     "output_type": "stream",
     "text": [
      "[nltk_data] Downloading package stopwords to\n",
      "[nltk_data]     C:\\Users\\Abbas\\AppData\\Roaming\\nltk_data...\n",
      "[nltk_data]   Package stopwords is already up-to-date!\n"
     ]
    },
    {
     "data": {
      "text/plain": [
       "{'a',\n",
       " 'about',\n",
       " 'above',\n",
       " 'after',\n",
       " 'again',\n",
       " 'against',\n",
       " 'ain',\n",
       " 'all',\n",
       " 'am',\n",
       " 'an',\n",
       " 'and',\n",
       " 'any',\n",
       " 'are',\n",
       " 'aren',\n",
       " \"aren't\",\n",
       " 'as',\n",
       " 'at',\n",
       " 'be',\n",
       " 'because',\n",
       " 'been',\n",
       " 'before',\n",
       " 'being',\n",
       " 'below',\n",
       " 'between',\n",
       " 'both',\n",
       " 'but',\n",
       " 'by',\n",
       " 'can',\n",
       " 'couldn',\n",
       " \"couldn't\",\n",
       " 'd',\n",
       " 'did',\n",
       " 'didn',\n",
       " \"didn't\",\n",
       " 'do',\n",
       " 'does',\n",
       " 'doesn',\n",
       " \"doesn't\",\n",
       " 'doing',\n",
       " 'don',\n",
       " \"don't\",\n",
       " 'down',\n",
       " 'during',\n",
       " 'each',\n",
       " 'few',\n",
       " 'for',\n",
       " 'from',\n",
       " 'further',\n",
       " 'had',\n",
       " 'hadn',\n",
       " \"hadn't\",\n",
       " 'has',\n",
       " 'hasn',\n",
       " \"hasn't\",\n",
       " 'have',\n",
       " 'haven',\n",
       " \"haven't\",\n",
       " 'having',\n",
       " 'he',\n",
       " 'her',\n",
       " 'here',\n",
       " 'hers',\n",
       " 'herself',\n",
       " 'him',\n",
       " 'himself',\n",
       " 'his',\n",
       " 'how',\n",
       " 'i',\n",
       " 'if',\n",
       " 'in',\n",
       " 'into',\n",
       " 'is',\n",
       " 'isn',\n",
       " \"isn't\",\n",
       " 'it',\n",
       " \"it's\",\n",
       " 'its',\n",
       " 'itself',\n",
       " 'just',\n",
       " 'll',\n",
       " 'm',\n",
       " 'ma',\n",
       " 'me',\n",
       " 'mightn',\n",
       " \"mightn't\",\n",
       " 'more',\n",
       " 'most',\n",
       " 'mustn',\n",
       " \"mustn't\",\n",
       " 'my',\n",
       " 'myself',\n",
       " 'needn',\n",
       " \"needn't\",\n",
       " 'no',\n",
       " 'nor',\n",
       " 'not',\n",
       " 'now',\n",
       " 'o',\n",
       " 'of',\n",
       " 'off',\n",
       " 'on',\n",
       " 'once',\n",
       " 'only',\n",
       " 'or',\n",
       " 'other',\n",
       " 'our',\n",
       " 'ours',\n",
       " 'ourselves',\n",
       " 'out',\n",
       " 'over',\n",
       " 'own',\n",
       " 're',\n",
       " 's',\n",
       " 'same',\n",
       " 'shan',\n",
       " \"shan't\",\n",
       " 'she',\n",
       " \"she's\",\n",
       " 'should',\n",
       " \"should've\",\n",
       " 'shouldn',\n",
       " \"shouldn't\",\n",
       " 'so',\n",
       " 'some',\n",
       " 'such',\n",
       " 't',\n",
       " 'than',\n",
       " 'that',\n",
       " \"that'll\",\n",
       " 'the',\n",
       " 'their',\n",
       " 'theirs',\n",
       " 'them',\n",
       " 'themselves',\n",
       " 'then',\n",
       " 'there',\n",
       " 'these',\n",
       " 'they',\n",
       " 'this',\n",
       " 'those',\n",
       " 'through',\n",
       " 'to',\n",
       " 'too',\n",
       " 'under',\n",
       " 'until',\n",
       " 'up',\n",
       " 've',\n",
       " 'very',\n",
       " 'was',\n",
       " 'wasn',\n",
       " \"wasn't\",\n",
       " 'we',\n",
       " 'were',\n",
       " 'weren',\n",
       " \"weren't\",\n",
       " 'what',\n",
       " 'when',\n",
       " 'where',\n",
       " 'which',\n",
       " 'while',\n",
       " 'who',\n",
       " 'whom',\n",
       " 'why',\n",
       " 'will',\n",
       " 'with',\n",
       " 'won',\n",
       " \"won't\",\n",
       " 'wouldn',\n",
       " \"wouldn't\",\n",
       " 'y',\n",
       " 'you',\n",
       " \"you'd\",\n",
       " \"you'll\",\n",
       " \"you're\",\n",
       " \"you've\",\n",
       " 'your',\n",
       " 'yours',\n",
       " 'yourself',\n",
       " 'yourselves'}"
      ]
     },
     "execution_count": 137,
     "metadata": {},
     "output_type": "execute_result"
    }
   ],
   "source": [
    "#import dictionary of stop words\n",
    "\n",
    "import nltk\n",
    "nltk.download('stopwords')\n",
    "import nltk\n",
    "from nltk.corpus import stopwords\n",
    "set(stopwords.words('english'))"
   ]
  },
  {
   "cell_type": "code",
   "execution_count": 138,
   "metadata": {},
   "outputs": [
    {
     "data": {
      "text/html": [
       "<div>\n",
       "<style scoped>\n",
       "    .dataframe tbody tr th:only-of-type {\n",
       "        vertical-align: middle;\n",
       "    }\n",
       "\n",
       "    .dataframe tbody tr th {\n",
       "        vertical-align: top;\n",
       "    }\n",
       "\n",
       "    .dataframe thead th {\n",
       "        text-align: right;\n",
       "    }\n",
       "</style>\n",
       "<table border=\"1\" class=\"dataframe\">\n",
       "  <thead>\n",
       "    <tr style=\"text-align: right;\">\n",
       "      <th></th>\n",
       "      <th>date</th>\n",
       "      <th>title</th>\n",
       "      <th>text</th>\n",
       "      <th>type</th>\n",
       "    </tr>\n",
       "  </thead>\n",
       "  <tbody>\n",
       "    <tr>\n",
       "      <th>0</th>\n",
       "      <td>2016-03-11 00:00:00</td>\n",
       "      <td>Governor extends Flint water emergency as stat...</td>\n",
       "      <td>WASHINGTON (Reuters) - Michigan Governor Rick ...</td>\n",
       "      <td>real</td>\n",
       "    </tr>\n",
       "    <tr>\n",
       "      <th>1</th>\n",
       "      <td>2017-10-09 00:00:00</td>\n",
       "      <td>DEMOCRATS CONVENIENTLY FORGET 6,000 Prisoners ...</td>\n",
       "      <td>Democrats calling President Trump scalp pardon...</td>\n",
       "      <td>fake</td>\n",
       "    </tr>\n",
       "    <tr>\n",
       "      <th>2</th>\n",
       "      <td>2018-02-01 00:00:00</td>\n",
       "      <td>Mexico recognizes Honduran president as winner...</td>\n",
       "      <td>MEXICO CITY (Reuters) - Mexico recognized Hond...</td>\n",
       "      <td>real</td>\n",
       "    </tr>\n",
       "    <tr>\n",
       "      <th>3</th>\n",
       "      <td>2016-11-20 00:00:00</td>\n",
       "      <td>BOOM! Wikileaks Shows Hillary Speech To Banker...</td>\n",
       "      <td>No wonder want anyone see speeches. She singin...</td>\n",
       "      <td>fake</td>\n",
       "    </tr>\n",
       "    <tr>\n",
       "      <th>4</th>\n",
       "      <td>2017-07-06 00:00:00</td>\n",
       "      <td>Paul Ryan says confident tax reform will pass ...</td>\n",
       "      <td>WASHINGTON (Reuters) - Republicans able push t...</td>\n",
       "      <td>real</td>\n",
       "    </tr>\n",
       "  </tbody>\n",
       "</table>\n",
       "</div>"
      ],
      "text/plain": [
       "                  date                                              title  \\\n",
       "0  2016-03-11 00:00:00  Governor extends Flint water emergency as stat...   \n",
       "1  2017-10-09 00:00:00  DEMOCRATS CONVENIENTLY FORGET 6,000 Prisoners ...   \n",
       "2  2018-02-01 00:00:00  Mexico recognizes Honduran president as winner...   \n",
       "3  2016-11-20 00:00:00  BOOM! Wikileaks Shows Hillary Speech To Banker...   \n",
       "4  2017-07-06 00:00:00  Paul Ryan says confident tax reform will pass ...   \n",
       "\n",
       "                                                text  type  \n",
       "0  WASHINGTON (Reuters) - Michigan Governor Rick ...  real  \n",
       "1  Democrats calling President Trump scalp pardon...  fake  \n",
       "2  MEXICO CITY (Reuters) - Mexico recognized Hond...  real  \n",
       "3  No wonder want anyone see speeches. She singin...  fake  \n",
       "4  WASHINGTON (Reuters) - Republicans able push t...  real  "
      ]
     },
     "execution_count": 138,
     "metadata": {},
     "output_type": "execute_result"
    }
   ],
   "source": [
    "#removing stop words\n",
    "\n",
    "import pandas as pd\n",
    "from nltk.corpus import stopwords\n",
    "\n",
    "stop = stopwords.words('english')\n",
    "\n",
    "#df[\"title\"] = df[\"title\"].apply(lambda x: ' '.join([word for word in x.split() if word not in (stop)]))\n",
    "df[\"text\"] = df[\"text\"].apply(lambda x: ' '.join([word for word in x.split() if word not in (stop)]))\n",
    "\n",
    "df.head()"
   ]
  },
  {
   "cell_type": "code",
   "execution_count": 139,
   "metadata": {},
   "outputs": [],
   "source": [
    "#change to lower case\n",
    "\n",
    "#df['title']= df['title'].apply(lambda x: \" \".join(word.lower() for word in x.split()))\n",
    "df['text']= df['text'].apply(lambda x: \" \".join(word.lower() for word in x.split()))"
   ]
  },
  {
   "cell_type": "code",
   "execution_count": 140,
   "metadata": {},
   "outputs": [
    {
     "data": {
      "text/html": [
       "<div>\n",
       "<style scoped>\n",
       "    .dataframe tbody tr th:only-of-type {\n",
       "        vertical-align: middle;\n",
       "    }\n",
       "\n",
       "    .dataframe tbody tr th {\n",
       "        vertical-align: top;\n",
       "    }\n",
       "\n",
       "    .dataframe thead th {\n",
       "        text-align: right;\n",
       "    }\n",
       "</style>\n",
       "<table border=\"1\" class=\"dataframe\">\n",
       "  <thead>\n",
       "    <tr style=\"text-align: right;\">\n",
       "      <th></th>\n",
       "      <th>date</th>\n",
       "      <th>title</th>\n",
       "      <th>text</th>\n",
       "      <th>type</th>\n",
       "    </tr>\n",
       "  </thead>\n",
       "  <tbody>\n",
       "    <tr>\n",
       "      <th>0</th>\n",
       "      <td>2016-03-11 00:00:00</td>\n",
       "      <td>Governor extends Flint water emergency as stat...</td>\n",
       "      <td>washington (reuters) - michigan governor rick ...</td>\n",
       "      <td>real</td>\n",
       "    </tr>\n",
       "    <tr>\n",
       "      <th>1</th>\n",
       "      <td>2017-10-09 00:00:00</td>\n",
       "      <td>DEMOCRATS CONVENIENTLY FORGET 6,000 Prisoners ...</td>\n",
       "      <td>democrats calling president trump scalp pardon...</td>\n",
       "      <td>fake</td>\n",
       "    </tr>\n",
       "    <tr>\n",
       "      <th>2</th>\n",
       "      <td>2018-02-01 00:00:00</td>\n",
       "      <td>Mexico recognizes Honduran president as winner...</td>\n",
       "      <td>mexico city (reuters) - mexico recognized hond...</td>\n",
       "      <td>real</td>\n",
       "    </tr>\n",
       "    <tr>\n",
       "      <th>3</th>\n",
       "      <td>2016-11-20 00:00:00</td>\n",
       "      <td>BOOM! Wikileaks Shows Hillary Speech To Banker...</td>\n",
       "      <td>no wonder want anyone see speeches. she singin...</td>\n",
       "      <td>fake</td>\n",
       "    </tr>\n",
       "    <tr>\n",
       "      <th>4</th>\n",
       "      <td>2017-07-06 00:00:00</td>\n",
       "      <td>Paul Ryan says confident tax reform will pass ...</td>\n",
       "      <td>washington (reuters) - republicans able push t...</td>\n",
       "      <td>real</td>\n",
       "    </tr>\n",
       "  </tbody>\n",
       "</table>\n",
       "</div>"
      ],
      "text/plain": [
       "                  date                                              title  \\\n",
       "0  2016-03-11 00:00:00  Governor extends Flint water emergency as stat...   \n",
       "1  2017-10-09 00:00:00  DEMOCRATS CONVENIENTLY FORGET 6,000 Prisoners ...   \n",
       "2  2018-02-01 00:00:00  Mexico recognizes Honduran president as winner...   \n",
       "3  2016-11-20 00:00:00  BOOM! Wikileaks Shows Hillary Speech To Banker...   \n",
       "4  2017-07-06 00:00:00  Paul Ryan says confident tax reform will pass ...   \n",
       "\n",
       "                                                text  type  \n",
       "0  washington (reuters) - michigan governor rick ...  real  \n",
       "1  democrats calling president trump scalp pardon...  fake  \n",
       "2  mexico city (reuters) - mexico recognized hond...  real  \n",
       "3  no wonder want anyone see speeches. she singin...  fake  \n",
       "4  washington (reuters) - republicans able push t...  real  "
      ]
     },
     "execution_count": 140,
     "metadata": {},
     "output_type": "execute_result"
    }
   ],
   "source": [
    "df.head()"
   ]
  },
  {
   "cell_type": "code",
   "execution_count": 141,
   "metadata": {},
   "outputs": [],
   "source": [
    "#removal of other unncessary words\n",
    "\n",
    "#df['title']= df['title'].str.replace('[^\\w\\s]','') # Removes punctuation\n",
    "df['text']= df['text'].str.replace('[^\\w\\s]','')\n",
    "\n",
    "#df['title']= df['title'].str.replace('<.*?>','') #removes HTML Tags\n",
    "df['text']= df['text'].str.replace('<.*?>','')\n",
    "\n",
    "#df['title']= df['title'].str.replace('\\d+','') #removes numbers\n",
    "df['text']= df['text'].str.replace('\\d+','')\n"
   ]
  },
  {
   "cell_type": "code",
   "execution_count": 59,
   "metadata": {},
   "outputs": [
    {
     "data": {
      "text/html": [
       "<div>\n",
       "<style scoped>\n",
       "    .dataframe tbody tr th:only-of-type {\n",
       "        vertical-align: middle;\n",
       "    }\n",
       "\n",
       "    .dataframe tbody tr th {\n",
       "        vertical-align: top;\n",
       "    }\n",
       "\n",
       "    .dataframe thead th {\n",
       "        text-align: right;\n",
       "    }\n",
       "</style>\n",
       "<table border=\"1\" class=\"dataframe\">\n",
       "  <thead>\n",
       "    <tr style=\"text-align: right;\">\n",
       "      <th></th>\n",
       "      <th>date</th>\n",
       "      <th>title</th>\n",
       "      <th>text</th>\n",
       "      <th>type</th>\n",
       "    </tr>\n",
       "  </thead>\n",
       "  <tbody>\n",
       "    <tr>\n",
       "      <th>0</th>\n",
       "      <td>2016-03-11 00:00:00</td>\n",
       "      <td>governor extends flint water emergency state a...</td>\n",
       "      <td>washington reuters michigan governor rick snyd...</td>\n",
       "      <td>real</td>\n",
       "    </tr>\n",
       "    <tr>\n",
       "      <th>1</th>\n",
       "      <td>2017-10-09 00:00:00</td>\n",
       "      <td>democrats conveniently forget prisoners obama ...</td>\n",
       "      <td>democrats calling president trump scalp pardon...</td>\n",
       "      <td>fake</td>\n",
       "    </tr>\n",
       "    <tr>\n",
       "      <th>2</th>\n",
       "      <td>2018-02-01 00:00:00</td>\n",
       "      <td>mexico recognizes honduran president winner di...</td>\n",
       "      <td>mexico city reuters mexico recognized honduran...</td>\n",
       "      <td>real</td>\n",
       "    </tr>\n",
       "    <tr>\n",
       "      <th>3</th>\n",
       "      <td>2016-11-20 00:00:00</td>\n",
       "      <td>boom wikileaks shows hillary speech to bankers...</td>\n",
       "      <td>no wonder want anyone see speeches she singing...</td>\n",
       "      <td>fake</td>\n",
       "    </tr>\n",
       "    <tr>\n",
       "      <th>4</th>\n",
       "      <td>2017-07-06 00:00:00</td>\n",
       "      <td>paul ryan says confident tax reform pass axios</td>\n",
       "      <td>washington reuters republicans able push tax r...</td>\n",
       "      <td>real</td>\n",
       "    </tr>\n",
       "  </tbody>\n",
       "</table>\n",
       "</div>"
      ],
      "text/plain": [
       "                  date                                              title  \\\n",
       "0  2016-03-11 00:00:00  governor extends flint water emergency state a...   \n",
       "1  2017-10-09 00:00:00  democrats conveniently forget prisoners obama ...   \n",
       "2  2018-02-01 00:00:00  mexico recognizes honduran president winner di...   \n",
       "3  2016-11-20 00:00:00  boom wikileaks shows hillary speech to bankers...   \n",
       "4  2017-07-06 00:00:00     paul ryan says confident tax reform pass axios   \n",
       "\n",
       "                                                text  type  \n",
       "0  washington reuters michigan governor rick snyd...  real  \n",
       "1  democrats calling president trump scalp pardon...  fake  \n",
       "2  mexico city reuters mexico recognized honduran...  real  \n",
       "3  no wonder want anyone see speeches she singing...  fake  \n",
       "4  washington reuters republicans able push tax r...  real  "
      ]
     },
     "execution_count": 59,
     "metadata": {},
     "output_type": "execute_result"
    }
   ],
   "source": [
    "#removal of other unncessary words\n",
    "\n",
    "other_stop_words = ['get', 'would', 'got', 'made', 'doesnt', 'got']\n",
    "#df['title'] = df['title'].apply(lambda x: \" \".join(word for word in x.split() if word not in other_stop_words))\n",
    "df['text'] = df['text'].apply(lambda x: \" \".join(word for word in x.split() if word not in other_stop_words))\n",
    "df.head()"
   ]
  },
  {
   "cell_type": "code",
   "execution_count": 14,
   "metadata": {},
   "outputs": [
    {
     "data": {
      "text/html": [
       "<div>\n",
       "<style scoped>\n",
       "    .dataframe tbody tr th:only-of-type {\n",
       "        vertical-align: middle;\n",
       "    }\n",
       "\n",
       "    .dataframe tbody tr th {\n",
       "        vertical-align: top;\n",
       "    }\n",
       "\n",
       "    .dataframe thead th {\n",
       "        text-align: right;\n",
       "    }\n",
       "</style>\n",
       "<table border=\"1\" class=\"dataframe\">\n",
       "  <thead>\n",
       "    <tr style=\"text-align: right;\">\n",
       "      <th></th>\n",
       "      <th>date</th>\n",
       "      <th>title</th>\n",
       "      <th>text</th>\n",
       "      <th>type</th>\n",
       "    </tr>\n",
       "  </thead>\n",
       "  <tbody>\n",
       "    <tr>\n",
       "      <th>0</th>\n",
       "      <td>2016-03-11 00:00:00</td>\n",
       "      <td>[g, o, v, e, r, n, o, r,  , e, x, t, e, n, d, ...</td>\n",
       "      <td>[g, o, v, e, r, n, o, r,  , e, x, t, e, n, d, ...</td>\n",
       "      <td>real</td>\n",
       "    </tr>\n",
       "    <tr>\n",
       "      <th>1</th>\n",
       "      <td>2017-10-09 00:00:00</td>\n",
       "      <td>[d, e, m, o, c, r, a, t, s,  , c, o, n, v, e, ...</td>\n",
       "      <td>[d, e, m, o, c, r, a, t, s,  , c, o, n, v, e, ...</td>\n",
       "      <td>fake</td>\n",
       "    </tr>\n",
       "    <tr>\n",
       "      <th>2</th>\n",
       "      <td>2018-02-01 00:00:00</td>\n",
       "      <td>[m, e, x, i, c, o,  , r, e, c, o, g, n, i, z, ...</td>\n",
       "      <td>[m, e, x, i, c, o,  , r, e, c, o, g, n, i, z, ...</td>\n",
       "      <td>real</td>\n",
       "    </tr>\n",
       "    <tr>\n",
       "      <th>3</th>\n",
       "      <td>2016-11-20 00:00:00</td>\n",
       "      <td>[b, o, o, m,  , w, i, k, i, l, e, a, k, s,  , ...</td>\n",
       "      <td>[b, o, o, m,  , w, i, k, i, l, e, a, k, s,  , ...</td>\n",
       "      <td>fake</td>\n",
       "    </tr>\n",
       "    <tr>\n",
       "      <th>4</th>\n",
       "      <td>2017-07-06 00:00:00</td>\n",
       "      <td>[p, a, u, l,  , r, y, a, n,  , s, a, y, s,  , ...</td>\n",
       "      <td>[p, a, u, l,  , r, y, a, n,  , s, a, y, s,  , ...</td>\n",
       "      <td>real</td>\n",
       "    </tr>\n",
       "  </tbody>\n",
       "</table>\n",
       "</div>"
      ],
      "text/plain": [
       "                  date                                              title  \\\n",
       "0  2016-03-11 00:00:00  [g, o, v, e, r, n, o, r,  , e, x, t, e, n, d, ...   \n",
       "1  2017-10-09 00:00:00  [d, e, m, o, c, r, a, t, s,  , c, o, n, v, e, ...   \n",
       "2  2018-02-01 00:00:00  [m, e, x, i, c, o,  , r, e, c, o, g, n, i, z, ...   \n",
       "3  2016-11-20 00:00:00  [b, o, o, m,  , w, i, k, i, l, e, a, k, s,  , ...   \n",
       "4  2017-07-06 00:00:00  [p, a, u, l,  , r, y, a, n,  , s, a, y, s,  , ...   \n",
       "\n",
       "                                                text  type  \n",
       "0  [g, o, v, e, r, n, o, r,  , e, x, t, e, n, d, ...  real  \n",
       "1  [d, e, m, o, c, r, a, t, s,  , c, o, n, v, e, ...  fake  \n",
       "2  [m, e, x, i, c, o,  , r, e, c, o, g, n, i, z, ...  real  \n",
       "3  [b, o, o, m,  , w, i, k, i, l, e, a, k, s,  , ...  fake  \n",
       "4  [p, a, u, l,  , r, y, a, n,  , s, a, y, s,  , ...  real  "
      ]
     },
     "execution_count": 14,
     "metadata": {},
     "output_type": "execute_result"
    }
   ],
   "source": [
    "#import pandas as pd\n",
    "#from nltk.stem.snowball import SnowballStemmer\n",
    "\n",
    "# Use English stemmer.\n",
    "#stemmer = SnowballStemmer(\"english\")\n",
    "#df['title'] = df['title'].apply(lambda x: [stemmer.stem(y) for y in x]) # Stem every word.\n",
    "#df['text'] = df['text'].apply(lambda x: [stemmer.stem(y) for y in x]) # Stem every word.\n",
    "#df.head()"
   ]
  },
  {
   "cell_type": "code",
   "execution_count": 142,
   "metadata": {},
   "outputs": [],
   "source": [
    "from textblob import TextBlob\n",
    "from textblob import Word"
   ]
  },
  {
   "cell_type": "code",
   "execution_count": 144,
   "metadata": {},
   "outputs": [
    {
     "data": {
      "text/html": [
       "<div>\n",
       "<style scoped>\n",
       "    .dataframe tbody tr th:only-of-type {\n",
       "        vertical-align: middle;\n",
       "    }\n",
       "\n",
       "    .dataframe tbody tr th {\n",
       "        vertical-align: top;\n",
       "    }\n",
       "\n",
       "    .dataframe thead th {\n",
       "        text-align: right;\n",
       "    }\n",
       "</style>\n",
       "<table border=\"1\" class=\"dataframe\">\n",
       "  <thead>\n",
       "    <tr style=\"text-align: right;\">\n",
       "      <th></th>\n",
       "      <th>date</th>\n",
       "      <th>title</th>\n",
       "      <th>text</th>\n",
       "      <th>type</th>\n",
       "    </tr>\n",
       "  </thead>\n",
       "  <tbody>\n",
       "    <tr>\n",
       "      <th>0</th>\n",
       "      <td>2016-03-11 00:00:00</td>\n",
       "      <td>Governor extends Flint water emergency as stat...</td>\n",
       "      <td>washington reuters michigan governor rick snyd...</td>\n",
       "      <td>real</td>\n",
       "    </tr>\n",
       "    <tr>\n",
       "      <th>1</th>\n",
       "      <td>2017-10-09 00:00:00</td>\n",
       "      <td>DEMOCRATS CONVENIENTLY FORGET 6,000 Prisoners ...</td>\n",
       "      <td>democrat calling president trump scalp pardone...</td>\n",
       "      <td>fake</td>\n",
       "    </tr>\n",
       "    <tr>\n",
       "      <th>2</th>\n",
       "      <td>2018-02-01 00:00:00</td>\n",
       "      <td>Mexico recognizes Honduran president as winner...</td>\n",
       "      <td>mexico city reuters mexico recognized honduran...</td>\n",
       "      <td>real</td>\n",
       "    </tr>\n",
       "    <tr>\n",
       "      <th>3</th>\n",
       "      <td>2016-11-20 00:00:00</td>\n",
       "      <td>BOOM! Wikileaks Shows Hillary Speech To Banker...</td>\n",
       "      <td>no wonder want anyone see speech she singing p...</td>\n",
       "      <td>fake</td>\n",
       "    </tr>\n",
       "    <tr>\n",
       "      <th>4</th>\n",
       "      <td>2017-07-06 00:00:00</td>\n",
       "      <td>Paul Ryan says confident tax reform will pass ...</td>\n",
       "      <td>washington reuters republican able push tax re...</td>\n",
       "      <td>real</td>\n",
       "    </tr>\n",
       "  </tbody>\n",
       "</table>\n",
       "</div>"
      ],
      "text/plain": [
       "                  date                                              title  \\\n",
       "0  2016-03-11 00:00:00  Governor extends Flint water emergency as stat...   \n",
       "1  2017-10-09 00:00:00  DEMOCRATS CONVENIENTLY FORGET 6,000 Prisoners ...   \n",
       "2  2018-02-01 00:00:00  Mexico recognizes Honduran president as winner...   \n",
       "3  2016-11-20 00:00:00  BOOM! Wikileaks Shows Hillary Speech To Banker...   \n",
       "4  2017-07-06 00:00:00  Paul Ryan says confident tax reform will pass ...   \n",
       "\n",
       "                                                text  type  \n",
       "0  washington reuters michigan governor rick snyd...  real  \n",
       "1  democrat calling president trump scalp pardone...  fake  \n",
       "2  mexico city reuters mexico recognized honduran...  real  \n",
       "3  no wonder want anyone see speech she singing p...  fake  \n",
       "4  washington reuters republican able push tax re...  real  "
      ]
     },
     "execution_count": 144,
     "metadata": {},
     "output_type": "execute_result"
    }
   ],
   "source": [
    "# Perform Lemmatization\n",
    "\n",
    "#df['title'] = df['title'].apply(lambda x: \" \".join(Word(word).lemmatize() for word in x.split()))\n",
    "df['text'] = df['text'].apply(lambda x: \" \".join(Word(word).lemmatize() for word in x.split()))\n",
    "\n",
    "df.head()"
   ]
  },
  {
   "cell_type": "code",
   "execution_count": null,
   "metadata": {},
   "outputs": [],
   "source": [
    "#df.to_csv('C:/Users/abbas/Desktop/train_fakebook_clean.csv')\n"
   ]
  },
  {
   "cell_type": "code",
   "execution_count": null,
   "metadata": {},
   "outputs": [],
   "source": [
    "# MENTIONED IN PROF'S GUIDLINE: Note that this is a binary classification problem with the output labels being ”fake” or ”real”. \n",
    "# My Suggestion: in 'type' column, changing fake = 0 and real = 1 as output for an easy binary classification\n",
    "# Next steps suggestion :Convert 'title' column, 'text' column into numbers/vectors/token (prof suggested one hot encoding, but we can use any other encoding method)\n",
    "# Applying ML models to generate 0(fake) or 1(real) as a output on test data "
   ]
  },
  {
   "cell_type": "code",
   "execution_count": 62,
   "metadata": {},
   "outputs": [],
   "source": [
    "import nltk"
   ]
  },
  {
   "cell_type": "code",
   "execution_count": 30,
   "metadata": {},
   "outputs": [
    {
     "data": {
      "text/html": [
       "<div>\n",
       "<style scoped>\n",
       "    .dataframe tbody tr th:only-of-type {\n",
       "        vertical-align: middle;\n",
       "    }\n",
       "\n",
       "    .dataframe tbody tr th {\n",
       "        vertical-align: top;\n",
       "    }\n",
       "\n",
       "    .dataframe thead th {\n",
       "        text-align: right;\n",
       "    }\n",
       "</style>\n",
       "<table border=\"1\" class=\"dataframe\">\n",
       "  <thead>\n",
       "    <tr style=\"text-align: right;\">\n",
       "      <th></th>\n",
       "      <th>date</th>\n",
       "      <th>title</th>\n",
       "      <th>text</th>\n",
       "      <th>type</th>\n",
       "    </tr>\n",
       "  </thead>\n",
       "  <tbody>\n",
       "    <tr>\n",
       "      <th>0</th>\n",
       "      <td>2016-03-11 00:00:00</td>\n",
       "      <td>[governor, extends, flint, water, emergency, s...</td>\n",
       "      <td>[governor, extends, flint, water, emergency, s...</td>\n",
       "      <td>real</td>\n",
       "    </tr>\n",
       "    <tr>\n",
       "      <th>1</th>\n",
       "      <td>2017-10-09 00:00:00</td>\n",
       "      <td>[democrat, conveniently, forget, prisoner, oba...</td>\n",
       "      <td>[democrat, conveniently, forget, prisoner, oba...</td>\n",
       "      <td>fake</td>\n",
       "    </tr>\n",
       "    <tr>\n",
       "      <th>2</th>\n",
       "      <td>2018-02-01 00:00:00</td>\n",
       "      <td>[mexico, recognizes, honduran, president, winn...</td>\n",
       "      <td>[mexico, recognizes, honduran, president, winn...</td>\n",
       "      <td>real</td>\n",
       "    </tr>\n",
       "    <tr>\n",
       "      <th>3</th>\n",
       "      <td>2016-11-20 00:00:00</td>\n",
       "      <td>[boom, wikileaks, show, hillary, speech, to, b...</td>\n",
       "      <td>[boom, wikileaks, show, hillary, speech, to, b...</td>\n",
       "      <td>fake</td>\n",
       "    </tr>\n",
       "    <tr>\n",
       "      <th>4</th>\n",
       "      <td>2017-07-06 00:00:00</td>\n",
       "      <td>[paul, ryan, say, confident, tax, reform, pas,...</td>\n",
       "      <td>[paul, ryan, say, confident, tax, reform, pas,...</td>\n",
       "      <td>real</td>\n",
       "    </tr>\n",
       "  </tbody>\n",
       "</table>\n",
       "</div>"
      ],
      "text/plain": [
       "                  date                                              title  \\\n",
       "0  2016-03-11 00:00:00  [governor, extends, flint, water, emergency, s...   \n",
       "1  2017-10-09 00:00:00  [democrat, conveniently, forget, prisoner, oba...   \n",
       "2  2018-02-01 00:00:00  [mexico, recognizes, honduran, president, winn...   \n",
       "3  2016-11-20 00:00:00  [boom, wikileaks, show, hillary, speech, to, b...   \n",
       "4  2017-07-06 00:00:00  [paul, ryan, say, confident, tax, reform, pas,...   \n",
       "\n",
       "                                                text  type  \n",
       "0  [governor, extends, flint, water, emergency, s...  real  \n",
       "1  [democrat, conveniently, forget, prisoner, oba...  fake  \n",
       "2  [mexico, recognizes, honduran, president, winn...  real  \n",
       "3  [boom, wikileaks, show, hillary, speech, to, b...  fake  \n",
       "4  [paul, ryan, say, confident, tax, reform, pas,...  real  "
      ]
     },
     "execution_count": 30,
     "metadata": {},
     "output_type": "execute_result"
    }
   ],
   "source": [
    "# Word Tokenization\n",
    "#from nltk.tokenize import sent_tokenize\n",
    "#df['text'] = df.apply(lambda row: nltk.word_tokenize(row['text']), axis=1)\n",
    "#df['title'] = df.apply(lambda row: nltk.word_tokenize(row['title']), axis=1)\n",
    "#df.head()"
   ]
  },
  {
   "cell_type": "markdown",
   "metadata": {},
   "source": [
    "Method 1- to encode text to numbers\n",
    "Feature Generation using Bag of Words\n",
    "\n",
    "In the Text Classification Problem, we have a set of texts and their respective labels. But we directly can't use text for our model. You need to convert these text into some numbers or vectors of numbers.\n",
    "\n",
    "Bag-of-words model(BoW ) is the simplest way of extracting features from the text. BoW converts text into the matrix of occurrence of words within a document. This model concerns about whether given words occurred or not in the document."
   ]
  },
  {
   "cell_type": "code",
   "execution_count": 182,
   "metadata": {},
   "outputs": [],
   "source": [
    "#generate document term matrix by using scikit-learn's CountVectorizer.\n",
    "\n",
    "from sklearn.feature_extraction.text import CountVectorizer\n",
    "from nltk.tokenize import RegexpTokenizer\n",
    "token = RegexpTokenizer(r'[a-zA-Z0-9]+')\n",
    "\n",
    "#tokenizer to remove unwanted elements from out data like symbols and numbers\n",
    "\n",
    "cv = CountVectorizer(lowercase=False,stop_words='english',ngram_range = (1,1),tokenizer = token.tokenize)\n",
    "text_counts= cv.fit_transform(df['text'])\n",
    "#title_counts= cv.fit_transform(df['title'])"
   ]
  },
  {
   "cell_type": "code",
   "execution_count": 183,
   "metadata": {
    "scrolled": true
   },
   "outputs": [
    {
     "data": {
      "text/html": [
       "<div>\n",
       "<style scoped>\n",
       "    .dataframe tbody tr th:only-of-type {\n",
       "        vertical-align: middle;\n",
       "    }\n",
       "\n",
       "    .dataframe tbody tr th {\n",
       "        vertical-align: top;\n",
       "    }\n",
       "\n",
       "    .dataframe thead th {\n",
       "        text-align: right;\n",
       "    }\n",
       "</style>\n",
       "<table border=\"1\" class=\"dataframe\">\n",
       "  <thead>\n",
       "    <tr style=\"text-align: right;\">\n",
       "      <th></th>\n",
       "      <th>date</th>\n",
       "      <th>title</th>\n",
       "      <th>text</th>\n",
       "      <th>type</th>\n",
       "    </tr>\n",
       "  </thead>\n",
       "  <tbody>\n",
       "    <tr>\n",
       "      <th>0</th>\n",
       "      <td>2016-03-11 00:00:00</td>\n",
       "      <td>Governor extends Flint water emergency as stat...</td>\n",
       "      <td>washington reuters michigan governor rick snyd...</td>\n",
       "      <td>real</td>\n",
       "    </tr>\n",
       "    <tr>\n",
       "      <th>1</th>\n",
       "      <td>2017-10-09 00:00:00</td>\n",
       "      <td>DEMOCRATS CONVENIENTLY FORGET 6,000 Prisoners ...</td>\n",
       "      <td>democrat calling president trump scalp pardone...</td>\n",
       "      <td>fake</td>\n",
       "    </tr>\n",
       "    <tr>\n",
       "      <th>2</th>\n",
       "      <td>2018-02-01 00:00:00</td>\n",
       "      <td>Mexico recognizes Honduran president as winner...</td>\n",
       "      <td>mexico city reuters mexico recognized honduran...</td>\n",
       "      <td>real</td>\n",
       "    </tr>\n",
       "    <tr>\n",
       "      <th>3</th>\n",
       "      <td>2016-11-20 00:00:00</td>\n",
       "      <td>BOOM! Wikileaks Shows Hillary Speech To Banker...</td>\n",
       "      <td>no wonder want anyone see speech she singing p...</td>\n",
       "      <td>fake</td>\n",
       "    </tr>\n",
       "    <tr>\n",
       "      <th>4</th>\n",
       "      <td>2017-07-06 00:00:00</td>\n",
       "      <td>Paul Ryan says confident tax reform will pass ...</td>\n",
       "      <td>washington reuters republican able push tax re...</td>\n",
       "      <td>real</td>\n",
       "    </tr>\n",
       "  </tbody>\n",
       "</table>\n",
       "</div>"
      ],
      "text/plain": [
       "                  date                                              title  \\\n",
       "0  2016-03-11 00:00:00  Governor extends Flint water emergency as stat...   \n",
       "1  2017-10-09 00:00:00  DEMOCRATS CONVENIENTLY FORGET 6,000 Prisoners ...   \n",
       "2  2018-02-01 00:00:00  Mexico recognizes Honduran president as winner...   \n",
       "3  2016-11-20 00:00:00  BOOM! Wikileaks Shows Hillary Speech To Banker...   \n",
       "4  2017-07-06 00:00:00  Paul Ryan says confident tax reform will pass ...   \n",
       "\n",
       "                                                text  type  \n",
       "0  washington reuters michigan governor rick snyd...  real  \n",
       "1  democrat calling president trump scalp pardone...  fake  \n",
       "2  mexico city reuters mexico recognized honduran...  real  \n",
       "3  no wonder want anyone see speech she singing p...  fake  \n",
       "4  washington reuters republican able push tax re...  real  "
      ]
     },
     "execution_count": 183,
     "metadata": {},
     "output_type": "execute_result"
    }
   ],
   "source": [
    "df.head()"
   ]
  },
  {
   "cell_type": "code",
   "execution_count": 184,
   "metadata": {},
   "outputs": [],
   "source": [
    "X=text_counts\n",
    "Y=df.type"
   ]
  },
  {
   "cell_type": "code",
   "execution_count": 185,
   "metadata": {},
   "outputs": [],
   "source": [
    "from sklearn.model_selection import train_test_split\n",
    "X_train, X_test, y_train, y_test = train_test_split(\n",
    "    X,Y, test_size=0.3, random_state=1)"
   ]
  },
  {
   "cell_type": "code",
   "execution_count": 186,
   "metadata": {},
   "outputs": [
    {
     "name": "stdout",
     "output_type": "stream",
     "text": [
      "MultinomialNB Accuracy: 0.9568505338078291\n"
     ]
    }
   ],
   "source": [
    "\n",
    "from sklearn.naive_bayes import MultinomialNB\n",
    "#Import scikit-learn metrics module for accuracy calculation\n",
    "from sklearn import metrics\n",
    "# Model Generation Using Multinomial Naive Bayes\n",
    "clf = MultinomialNB().fit(X_train, y_train)\n",
    "predicted= clf.predict(X_test)\n",
    "print(\"MultinomialNB Accuracy:\",metrics.accuracy_score(y_test, predicted))"
   ]
  },
  {
   "cell_type": "markdown",
   "metadata": {},
   "source": [
    "Method 2- to encode text to numbers\n",
    "\n",
    "Feature Generation using TF-IDF\n",
    "This encdoing method give slight better result that method 1"
   ]
  },
  {
   "cell_type": "code",
   "execution_count": 181,
   "metadata": {},
   "outputs": [],
   "source": [
    "from sklearn.feature_extraction.text import TfidfVectorizer\n",
    "tf=TfidfVectorizer()\n",
    "text_tf= tf.fit_transform(df['text'])"
   ]
  },
  {
   "cell_type": "code",
   "execution_count": 104,
   "metadata": {},
   "outputs": [],
   "source": [
    "#title_tf= tf.fit_transform(df['title'])"
   ]
  },
  {
   "cell_type": "code",
   "execution_count": 155,
   "metadata": {
    "scrolled": true
   },
   "outputs": [
    {
     "data": {
      "text/html": [
       "<div>\n",
       "<style scoped>\n",
       "    .dataframe tbody tr th:only-of-type {\n",
       "        vertical-align: middle;\n",
       "    }\n",
       "\n",
       "    .dataframe tbody tr th {\n",
       "        vertical-align: top;\n",
       "    }\n",
       "\n",
       "    .dataframe thead th {\n",
       "        text-align: right;\n",
       "    }\n",
       "</style>\n",
       "<table border=\"1\" class=\"dataframe\">\n",
       "  <thead>\n",
       "    <tr style=\"text-align: right;\">\n",
       "      <th></th>\n",
       "      <th>date</th>\n",
       "      <th>title</th>\n",
       "      <th>text</th>\n",
       "      <th>type</th>\n",
       "    </tr>\n",
       "  </thead>\n",
       "  <tbody>\n",
       "    <tr>\n",
       "      <th>0</th>\n",
       "      <td>2016-03-11 00:00:00</td>\n",
       "      <td>Governor extends Flint water emergency as stat...</td>\n",
       "      <td>washington reuters michigan governor rick snyd...</td>\n",
       "      <td>real</td>\n",
       "    </tr>\n",
       "    <tr>\n",
       "      <th>1</th>\n",
       "      <td>2017-10-09 00:00:00</td>\n",
       "      <td>DEMOCRATS CONVENIENTLY FORGET 6,000 Prisoners ...</td>\n",
       "      <td>democrat calling president trump scalp pardone...</td>\n",
       "      <td>fake</td>\n",
       "    </tr>\n",
       "    <tr>\n",
       "      <th>2</th>\n",
       "      <td>2018-02-01 00:00:00</td>\n",
       "      <td>Mexico recognizes Honduran president as winner...</td>\n",
       "      <td>mexico city reuters mexico recognized honduran...</td>\n",
       "      <td>real</td>\n",
       "    </tr>\n",
       "    <tr>\n",
       "      <th>3</th>\n",
       "      <td>2016-11-20 00:00:00</td>\n",
       "      <td>BOOM! Wikileaks Shows Hillary Speech To Banker...</td>\n",
       "      <td>no wonder want anyone see speech she singing p...</td>\n",
       "      <td>fake</td>\n",
       "    </tr>\n",
       "    <tr>\n",
       "      <th>4</th>\n",
       "      <td>2017-07-06 00:00:00</td>\n",
       "      <td>Paul Ryan says confident tax reform will pass ...</td>\n",
       "      <td>washington reuters republican able push tax re...</td>\n",
       "      <td>real</td>\n",
       "    </tr>\n",
       "  </tbody>\n",
       "</table>\n",
       "</div>"
      ],
      "text/plain": [
       "                  date                                              title  \\\n",
       "0  2016-03-11 00:00:00  Governor extends Flint water emergency as stat...   \n",
       "1  2017-10-09 00:00:00  DEMOCRATS CONVENIENTLY FORGET 6,000 Prisoners ...   \n",
       "2  2018-02-01 00:00:00  Mexico recognizes Honduran president as winner...   \n",
       "3  2016-11-20 00:00:00  BOOM! Wikileaks Shows Hillary Speech To Banker...   \n",
       "4  2017-07-06 00:00:00  Paul Ryan says confident tax reform will pass ...   \n",
       "\n",
       "                                                text  type  \n",
       "0  washington reuters michigan governor rick snyd...  real  \n",
       "1  democrat calling president trump scalp pardone...  fake  \n",
       "2  mexico city reuters mexico recognized honduran...  real  \n",
       "3  no wonder want anyone see speech she singing p...  fake  \n",
       "4  washington reuters republican able push tax re...  real  "
      ]
     },
     "execution_count": 155,
     "metadata": {},
     "output_type": "execute_result"
    }
   ],
   "source": [
    "df.head()"
   ]
  },
  {
   "cell_type": "code",
   "execution_count": 156,
   "metadata": {},
   "outputs": [],
   "source": [
    "X=text_tf\n",
    "Y=df.type"
   ]
  },
  {
   "cell_type": "code",
   "execution_count": 157,
   "metadata": {},
   "outputs": [],
   "source": [
    "from sklearn.model_selection import train_test_split\n",
    "X_train, X_test, y_train, y_test = train_test_split(\n",
    "    X,Y, test_size=0.3, random_state=123)"
   ]
  },
  {
   "cell_type": "code",
   "execution_count": 158,
   "metadata": {},
   "outputs": [
    {
     "data": {
      "text/html": [
       "<div>\n",
       "<style scoped>\n",
       "    .dataframe tbody tr th:only-of-type {\n",
       "        vertical-align: middle;\n",
       "    }\n",
       "\n",
       "    .dataframe tbody tr th {\n",
       "        vertical-align: top;\n",
       "    }\n",
       "\n",
       "    .dataframe thead th {\n",
       "        text-align: right;\n",
       "    }\n",
       "</style>\n",
       "<table border=\"1\" class=\"dataframe\">\n",
       "  <thead>\n",
       "    <tr style=\"text-align: right;\">\n",
       "      <th></th>\n",
       "      <th>0</th>\n",
       "    </tr>\n",
       "  </thead>\n",
       "  <tbody>\n",
       "    <tr>\n",
       "      <th>0</th>\n",
       "      <td>(0, 160842)\\t0.07656818702503014\\n  (0, 3551...</td>\n",
       "    </tr>\n",
       "    <tr>\n",
       "      <th>1</th>\n",
       "      <td>(0, 186849)\\t0.21704028547405235\\n  (0, 4839...</td>\n",
       "    </tr>\n",
       "    <tr>\n",
       "      <th>2</th>\n",
       "      <td>(0, 162946)\\t0.0892689900795546\\n  (0, 22885...</td>\n",
       "    </tr>\n",
       "    <tr>\n",
       "      <th>3</th>\n",
       "      <td>(0, 175886)\\t0.12525183247691885\\n  (0, 1353...</td>\n",
       "    </tr>\n",
       "    <tr>\n",
       "      <th>4</th>\n",
       "      <td>(0, 39305)\\t0.34630092486600944\\n  (0, 12733...</td>\n",
       "    </tr>\n",
       "  </tbody>\n",
       "</table>\n",
       "</div>"
      ],
      "text/plain": [
       "                                                   0\n",
       "0    (0, 160842)\\t0.07656818702503014\\n  (0, 3551...\n",
       "1    (0, 186849)\\t0.21704028547405235\\n  (0, 4839...\n",
       "2    (0, 162946)\\t0.0892689900795546\\n  (0, 22885...\n",
       "3    (0, 175886)\\t0.12525183247691885\\n  (0, 1353...\n",
       "4    (0, 39305)\\t0.34630092486600944\\n  (0, 12733..."
      ]
     },
     "execution_count": 158,
     "metadata": {},
     "output_type": "execute_result"
    }
   ],
   "source": [
    "pd.DataFrame(X_test).head()"
   ]
  },
  {
   "cell_type": "code",
   "execution_count": 166,
   "metadata": {},
   "outputs": [
    {
     "name": "stdout",
     "output_type": "stream",
     "text": [
      "MultinomialNB Accuracy: 0.9648576512455516\n"
     ]
    }
   ],
   "source": [
    "from sklearn.naive_bayes import MultinomialNB\n",
    "from sklearn import metrics\n",
    "# Model Generation Using Multinomial Naive Bayes\n",
    "clf = MultinomialNB().fit(X_train, y_train)\n",
    "predicted= clf.predict(X_test)\n",
    "print(\"MultinomialNB Accuracy:\",metrics.accuracy_score(y_test, predicted))"
   ]
  },
  {
   "cell_type": "code",
   "execution_count": 159,
   "metadata": {},
   "outputs": [],
   "source": [
    "#pd.DataFrame(test_text_tf).head()"
   ]
  },
  {
   "cell_type": "markdown",
   "metadata": {},
   "source": [
    "Below we will fit our test file(new data set which prof will give) on our trained model and see the results."
   ]
  },
  {
   "cell_type": "code",
   "execution_count": 165,
   "metadata": {
    "scrolled": true
   },
   "outputs": [
    {
     "data": {
      "text/html": [
       "<div>\n",
       "<style scoped>\n",
       "    .dataframe tbody tr th:only-of-type {\n",
       "        vertical-align: middle;\n",
       "    }\n",
       "\n",
       "    .dataframe tbody tr th {\n",
       "        vertical-align: top;\n",
       "    }\n",
       "\n",
       "    .dataframe thead th {\n",
       "        text-align: right;\n",
       "    }\n",
       "</style>\n",
       "<table border=\"1\" class=\"dataframe\">\n",
       "  <thead>\n",
       "    <tr style=\"text-align: right;\">\n",
       "      <th></th>\n",
       "      <th>Unnamed: 0</th>\n",
       "      <th>date</th>\n",
       "      <th>title</th>\n",
       "      <th>text</th>\n",
       "    </tr>\n",
       "  </thead>\n",
       "  <tbody>\n",
       "    <tr>\n",
       "      <th>0</th>\n",
       "      <td>0</td>\n",
       "      <td>3/11/16</td>\n",
       "      <td>governor extends flint water emergency state a...</td>\n",
       "      <td>washington reuters michigan governor rick snyd...</td>\n",
       "    </tr>\n",
       "    <tr>\n",
       "      <th>1</th>\n",
       "      <td>1</td>\n",
       "      <td>10/9/17</td>\n",
       "      <td>democrat conveniently forget prisoner obama pa...</td>\n",
       "      <td>democrat calling president trump scalp pardone...</td>\n",
       "    </tr>\n",
       "    <tr>\n",
       "      <th>2</th>\n",
       "      <td>2</td>\n",
       "      <td>2/1/18</td>\n",
       "      <td>mexico recognizes honduran president winner di...</td>\n",
       "      <td>mexico city reuters mexico recognized honduran...</td>\n",
       "    </tr>\n",
       "    <tr>\n",
       "      <th>3</th>\n",
       "      <td>3</td>\n",
       "      <td>11/20/16</td>\n",
       "      <td>boom wikileaks show hillary speech to bankersi...</td>\n",
       "      <td>no wonder want anyone see speech she singing p...</td>\n",
       "    </tr>\n",
       "    <tr>\n",
       "      <th>4</th>\n",
       "      <td>4</td>\n",
       "      <td>7/6/17</td>\n",
       "      <td>paul ryan say confident tax reform pas axios</td>\n",
       "      <td>washington reuters republican able push tax re...</td>\n",
       "    </tr>\n",
       "  </tbody>\n",
       "</table>\n",
       "</div>"
      ],
      "text/plain": [
       "   Unnamed: 0      date                                              title  \\\n",
       "0           0   3/11/16  governor extends flint water emergency state a...   \n",
       "1           1   10/9/17  democrat conveniently forget prisoner obama pa...   \n",
       "2           2    2/1/18  mexico recognizes honduran president winner di...   \n",
       "3           3  11/20/16  boom wikileaks show hillary speech to bankersi...   \n",
       "4           4    7/6/17       paul ryan say confident tax reform pas axios   \n",
       "\n",
       "                                                text  \n",
       "0  washington reuters michigan governor rick snyd...  \n",
       "1  democrat calling president trump scalp pardone...  \n",
       "2  mexico city reuters mexico recognized honduran...  \n",
       "3  no wonder want anyone see speech she singing p...  \n",
       "4  washington reuters republican able push tax re...  "
      ]
     },
     "execution_count": 165,
     "metadata": {},
     "output_type": "execute_result"
    }
   ],
   "source": [
    "df_test= pd.read_csv('C:/Users/Abbas/Desktop/test_fakebook_clean.csv')\n",
    "df_test.head()"
   ]
  },
  {
   "cell_type": "markdown",
   "metadata": {},
   "source": [
    "Feature Generation using Bag of Words\n",
    "\n",
    "In the Text Classification Problem, we have a set of texts and their respective labels. But we directly can't use text for our model. You need to convert these text into some numbers or vectors of numbers.\n",
    "\n",
    "Bag-of-words model(BoW ) is the simplest way of extracting features from the text. BoW converts text into the matrix of occurrence of words within a document. This model concerns about whether given words occurred or not in the document.\n",
    "\n"
   ]
  },
  {
   "cell_type": "code",
   "execution_count": 187,
   "metadata": {},
   "outputs": [],
   "source": [
    "#generate document term matrix by using scikit-learn's CountVectorizer.\n",
    "\n",
    "from sklearn.feature_extraction.text import CountVectorizer\n",
    "from nltk.tokenize import RegexpTokenizer\n",
    "token = RegexpTokenizer(r'[a-zA-Z0-9]+')\n",
    "\n",
    "#tokenizer to remove unwanted elements from out data like symbols and numbers\n",
    "#vect = CountVectorizer()\n",
    "#cv = CountVectorizer(lowercase=False,stop_words='english',ngram_range = (1,1),tokenizer = token.tokenize)\n",
    "#cv = CountVectorizer()\n",
    "test_text_counts= cv.transform(df_test['text'])\n",
    "#title_counts= cv.fit_transform(df['title'])"
   ]
  },
  {
   "cell_type": "code",
   "execution_count": 188,
   "metadata": {},
   "outputs": [],
   "source": [
    "X=text_counts\n",
    "Y=df.type"
   ]
  },
  {
   "cell_type": "code",
   "execution_count": 189,
   "metadata": {},
   "outputs": [],
   "source": [
    "from sklearn.model_selection import train_test_split\n",
    "X_train, X_test, y_train, y_test = train_test_split(\n",
    "    X,Y, test_size=0.3, random_state=1)"
   ]
  },
  {
   "cell_type": "code",
   "execution_count": 197,
   "metadata": {},
   "outputs": [],
   "source": [
    "#pd.DataFrame(X_test).head(2)"
   ]
  },
  {
   "cell_type": "code",
   "execution_count": 196,
   "metadata": {},
   "outputs": [],
   "source": [
    "#pd.DataFrame(test_text_counts).head(2)"
   ]
  },
  {
   "cell_type": "code",
   "execution_count": 194,
   "metadata": {},
   "outputs": [],
   "source": [
    "from sklearn.naive_bayes import MultinomialNB\n",
    "#Import scikit-learn metrics module for accuracy calculation\n",
    "from sklearn import metrics\n",
    "# Model Generation Using Multinomial Naive Bayes\n",
    "#clf = MultinomialNB().fit(X_train, y_train)\n",
    "predicted= clf.predict(test_text_counts)\n",
    "#print(\"MultinomialNB Accuracy:\",metrics.accuracy_score(y_test, predicted))"
   ]
  },
  {
   "cell_type": "code",
   "execution_count": 195,
   "metadata": {},
   "outputs": [
    {
     "data": {
      "text/plain": [
       "array(['real', 'fake', 'real', 'fake', 'real', 'real', 'real', 'fake',\n",
       "       'fake', 'real', 'fake', 'real', 'fake', 'real', 'fake', 'fake',\n",
       "       'real', 'real', 'real', 'real', 'real', 'fake', 'fake', 'real',\n",
       "       'fake', 'real', 'fake', 'real', 'real', 'real', 'real', 'fake',\n",
       "       'fake', 'real', 'real', 'fake', 'fake', 'real', 'real', 'fake',\n",
       "       'real', 'fake', 'real', 'fake', 'fake', 'real', 'real', 'real',\n",
       "       'real'], dtype='<U171')"
      ]
     },
     "execution_count": 195,
     "metadata": {},
     "output_type": "execute_result"
    }
   ],
   "source": [
    "predicted"
   ]
  },
  {
   "cell_type": "code",
   "execution_count": null,
   "metadata": {},
   "outputs": [],
   "source": []
  }
 ],
 "metadata": {
  "kernelspec": {
   "display_name": "Python 3",
   "language": "python",
   "name": "python3"
  },
  "language_info": {
   "codemirror_mode": {
    "name": "ipython",
    "version": 3
   },
   "file_extension": ".py",
   "mimetype": "text/x-python",
   "name": "python",
   "nbconvert_exporter": "python",
   "pygments_lexer": "ipython3",
   "version": "3.7.3"
  }
 },
 "nbformat": 4,
 "nbformat_minor": 2
}
